{
 "cells": [
  {
   "cell_type": "code",
   "execution_count": 18,
   "id": "3eb6016c",
   "metadata": {},
   "outputs": [
    {
     "name": "stdout",
     "output_type": "stream",
     "text": [
      "   Id  SepalLengthCm  SepalWidthCm  PetalLengthCm  PetalWidthCm      Species\n",
      "0   1            5.1           3.5            1.4           0.2  Iris-setosa\n",
      "1   2            4.9           3.0            1.4           0.2  Iris-setosa\n",
      "2   3            4.7           3.2            1.3           0.2  Iris-setosa\n",
      "3   4            4.6           3.1            1.5           0.2  Iris-setosa\n",
      "4   5            5.0           3.6            1.4           0.2  Iris-setosa\n",
      "Train set: (120, 5) (120,)\n",
      "Test set: (30, 5) (30,)\n",
      "accuracy score metrics (Number of Correct Predictions) / (Total Number of Predictions)\n",
      "score: 1.0\n"
     ]
    }
   ],
   "source": [
    "import pandas as pd\n",
    "import pylab as pl\n",
    "import numpy as np\n",
    "import scipy.optimize as opt\n",
    "from sklearn import preprocessing\n",
    "import matplotlib.pyplot as plt\n",
    "from sklearn.model_selection import train_test_split\n",
    "from sklearn.linear_model import LogisticRegression\n",
    "from sklearn.metrics import confusion_matrix, accuracy_score\n",
    "from sklearn.preprocessing import LabelEncoder\n",
    "from sklearn.metrics import jaccard_score\n",
    "\n",
    "df = pd.read_csv(\"Iris.csv\")\n",
    "\n",
    "print(df.head(5))\n",
    "\n",
    "df_all = df[['Id', 'SepalLengthCm', 'SepalWidthCm', 'PetalLengthCm', 'PetalWidthCm']]\n",
    "\n",
    "le = LabelEncoder()\n",
    "\n",
    "df_species = le.fit_transform(df['Species'])\n",
    "\n",
    "X = df_all_shaped = np.asarray(df_all)\n",
    "\n",
    "y = np.asarray(df_species)\n",
    "\n",
    "X = preprocessing.StandardScaler().fit(X).transform(X)\n",
    "\n",
    "X_train, X_test, y_train, y_test = train_test_split( X, y, test_size=0.2, random_state=42)\n",
    "print ('Train set:', X_train.shape,  y_train.shape)\n",
    "print ('Test set:', X_test.shape,  y_test.shape)\n",
    "\n",
    "LR = LogisticRegression(C=0.01,solver='saga').fit(X_train,y_train)\n",
    "\n",
    "yhat = LR.predict(X_test)\n",
    "yhat_prob = LR.predict_proba(X_test)\n",
    "\n",
    "print(f'''accuracy score metrics (Number of Correct Predictions) / (Total Number of Predictions)\n",
    "score: {accuracy_score(y_test, yhat)}''')"
   ]
  },
  {
   "cell_type": "code",
   "execution_count": null,
   "id": "ebd8b030",
   "metadata": {},
   "outputs": [],
   "source": [
    "#This is the Iris Species data set downloaded from kaggle\n",
    "\n",
    "# Although the model achieves a perfect score it is best to remain skeptical to such outcomes \n",
    "# And take into account factors like: Data Leakage, over fitting and the simplicity of the data set \n",
    "# Due to the data being relativley small and percise i beleive this is the reason the model has achieved a perfect score "
   ]
  },
  {
   "cell_type": "code",
   "execution_count": null,
   "id": "978658ac",
   "metadata": {},
   "outputs": [],
   "source": []
  }
 ],
 "metadata": {
  "kernelspec": {
   "display_name": "Python 3 (ipykernel)",
   "language": "python",
   "name": "python3"
  },
  "language_info": {
   "codemirror_mode": {
    "name": "ipython",
    "version": 3
   },
   "file_extension": ".py",
   "mimetype": "text/x-python",
   "name": "python",
   "nbconvert_exporter": "python",
   "pygments_lexer": "ipython3",
   "version": "3.10.9"
  }
 },
 "nbformat": 4,
 "nbformat_minor": 5
}
